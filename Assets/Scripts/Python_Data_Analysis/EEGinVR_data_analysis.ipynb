{
 "cells": [
  {
   "cell_type": "code",
   "execution_count": 12,
   "id": "783d9d5d",
   "metadata": {},
   "outputs": [],
   "source": [
    "import pandas as pd\n",
    "import matplotlib.pyplot as plt\n",
    "import numpy as np\n",
    "import seaborn as sns\n",
    "from scipy import stats\n",
    "from scipy.stats import f_oneway\n",
    "from scipy.stats import chi2\n",
    "from scipy.stats import chi2_contingency\n",
    "import statsmodels.api as sm\n",
    "from statsmodels.formula.api import ols"
   ]
  },
  {
   "cell_type": "code",
   "execution_count": 3,
   "id": "7557f199",
   "metadata": {},
   "outputs": [
    {
     "name": "stdout",
     "output_type": "stream",
     "text": [
      "96\n",
      "88\n",
      "    BlockNumber   TaskNumber  EmotionalExpression  PositionExpression  \\\n",
      "3             5            0                  sad               right   \n",
      "4             4            4               afraid                left   \n",
      "5             4            3               afraid                left   \n",
      "6             4            2                  sad               right   \n",
      "7             4            1                angry                left   \n",
      "..          ...          ...                  ...                 ...   \n",
      "91            1            4               afraid                left   \n",
      "92            1            3                happy               right   \n",
      "93            1            2               afraid                left   \n",
      "94            1            1               afraid                left   \n",
      "95            1            0               afraid                left   \n",
      "\n",
      "    NeutralAvatar   ReactionTime  ResponsePosition SubNr  \n",
      "3           young       1.273148              left     1  \n",
      "4           young       1.273148             right     1  \n",
      "5           young       1.273148             right     1  \n",
      "6           young       1.133266              left     1  \n",
      "7           young       1.133266             right     1  \n",
      "..            ...            ...               ...   ...  \n",
      "91          young       1.034828             right     4  \n",
      "92            old       1.034828             right     4  \n",
      "93          young       1.034828             right     4  \n",
      "94          young       1.034828             right     4  \n",
      "95          young       1.034828             right     4  \n",
      "\n",
      "[88 rows x 8 columns]\n"
     ]
    }
   ],
   "source": [
    "datapath = '/Users/carmenamme/Library/CloudStorage/OneDrive-Personal/Documents – Carmens MacBook Pro/cognitive_science/sem2/EEGinVR';\n",
    "\n",
    "#read in data from individual subjects\n",
    "sub1 = pd.read_csv(datapath + '/sub1.csv', sep = ',')\n",
    "sub2 = pd.read_csv(datapath + '/sub2.csv', sep = ',')\n",
    "sub3 = pd.read_csv(datapath + '/sub3.csv', sep = ',')\n",
    "sub4 = pd.read_csv(datapath + '/sub4.csv', sep = ',')\n",
    "\n",
    "#add information about subject number\n",
    "sub1['SubNr'] = '1'\n",
    "sub2['SubNr'] = '2'\n",
    "sub3['SubNr'] = '3'\n",
    "sub4['SubNr'] = '4'\n",
    "\n",
    "#merge individual dfs into one large df\n",
    "data = pd.concat([sub1, sub2, sub3, sub4], ignore_index=True)\n",
    "print(len(data))\n",
    "\n",
    "#delete rows where response time=0 and when there was no response\n",
    "data = data.drop(data[data[' ResponsePosition'] == 'noResponse'].index)\n",
    "data = data.drop(data[data[' ReactionTime'] == 0.000000].index)\n",
    "\n",
    "print(len(data))\n",
    "print(data)"
   ]
  },
  {
   "cell_type": "code",
   "execution_count": 4,
   "id": "71615f74",
   "metadata": {},
   "outputs": [
    {
     "name": "stdout",
     "output_type": "stream",
     "text": [
      "    BlockNumber   TaskNumber  EmotionalExpression  PositionExpression  \\\n",
      "3             5            0                  sad               right   \n",
      "4             4            4               afraid                left   \n",
      "5             4            3               afraid                left   \n",
      "6             4            2                  sad               right   \n",
      "7             4            1                angry                left   \n",
      "..          ...          ...                  ...                 ...   \n",
      "91            1            4               afraid                left   \n",
      "92            1            3                happy               right   \n",
      "93            1            2               afraid                left   \n",
      "94            1            1               afraid                left   \n",
      "95            1            0               afraid                left   \n",
      "\n",
      "    NeutralAvatar   ReactionTime  ResponsePosition SubNr   Response  \n",
      "3           young       1.273148              left     1  Avoidance  \n",
      "4           young       1.273148             right     1  Avoidance  \n",
      "5           young       1.273148             right     1  Avoidance  \n",
      "6           young       1.133266              left     1  Avoidance  \n",
      "7           young       1.133266             right     1  Avoidance  \n",
      "..            ...            ...               ...   ...        ...  \n",
      "91          young       1.034828             right     4  Avoidance  \n",
      "92            old       1.034828             right     4   Approach  \n",
      "93          young       1.034828             right     4  Avoidance  \n",
      "94          young       1.034828             right     4  Avoidance  \n",
      "95          young       1.034828             right     4  Avoidance  \n",
      "\n",
      "[88 rows x 9 columns]\n"
     ]
    }
   ],
   "source": [
    "#add a column with information about response\n",
    "data['Response'] = np.where(data[' ResponsePosition'] == data[' PositionExpression'], 'Approach', 'Avoidance')\n",
    "\n",
    "print(data)"
   ]
  },
  {
   "cell_type": "code",
   "execution_count": 5,
   "id": "83b4e630",
   "metadata": {},
   "outputs": [
    {
     "name": "stdout",
     "output_type": "stream",
     "text": [
      "Approach     16\n",
      "Avoidance     3\n",
      "Name: Response, dtype: int64\n",
      "Avoidance    21\n",
      "Approach      2\n",
      "Name: Response, dtype: int64\n",
      "Avoidance    24\n",
      "Name: Response, dtype: int64\n",
      "Avoidance    22\n",
      "Name: Response, dtype: int64\n"
     ]
    }
   ],
   "source": [
    "#get response count for the individual emotions\n",
    "\n",
    "happy_df = data.loc[data[' EmotionalExpression'] == 'happy']\n",
    "happy_rt = happy_df[' ReactionTime'].squeeze()\n",
    "print(happy_df.Response.value_counts())\n",
    "\n",
    "angry_df = data.loc[data[' EmotionalExpression'] == 'angry']\n",
    "angry_rt = angry_df[' ReactionTime'].squeeze()\n",
    "print(angry_df.Response.value_counts())\n",
    "\n",
    "sad_df = data.loc[data[' EmotionalExpression'] == 'sad']\n",
    "sad_rt = sad_df[' ReactionTime'].squeeze()\n",
    "print(sad_df.Response.value_counts())\n",
    "\n",
    "afraid_df = data.loc[data[' EmotionalExpression'] == 'afraid']\n",
    "afraid_rt = afraid_df[' ReactionTime'].squeeze()\n",
    "print(afraid_df.Response.value_counts())"
   ]
  },
  {
   "cell_type": "code",
   "execution_count": 6,
   "id": "36d8c83f",
   "metadata": {},
   "outputs": [
    {
     "name": "stdout",
     "output_type": "stream",
     "text": [
      "1.5055655421052632\n",
      "1.4001262208333334\n",
      "1.3491279652173913\n",
      "0.19835990278431964\n",
      "0.14422050390376623\n"
     ]
    }
   ],
   "source": [
    "#get mean rt  and sd for each emotional expression, regardless of response\n",
    "\n",
    "happy_mean = happy_df[' ReactionTime'].mean()\n",
    "sad_mean = sad_df[' ReactionTime'].mean()\n",
    "angry_mean = angry_df[' ReactionTime'].mean()\n",
    "afraid_mean = afraid_df[' ReactionTime'].mean()\n",
    "\n",
    "print(happy_mean)\n",
    "print(sad_mean)\n",
    "print(angry_mean)\n",
    "\n",
    "happy_sd = happy_df[' ReactionTime'].sem()\n",
    "sad_sd = sad_df[' ReactionTime'].sem()\n",
    "angry_sd = angry_df[' ReactionTime'].sem()\n",
    "afraid_sd = afraid_df[' ReactionTime'].sem()\n",
    "\n",
    "print(happy_sd)\n",
    "print(angry_sd)"
   ]
  },
  {
   "cell_type": "code",
   "execution_count": 7,
   "id": "d81bcbe2",
   "metadata": {},
   "outputs": [
    {
     "name": "stdout",
     "output_type": "stream",
     "text": [
      "dof=3\n",
      "[[ 3.88636364  4.70454545  4.90909091  4.5       ]\n",
      " [15.11363636 18.29545455 19.09090909 17.5       ]]\n",
      "61.24999455159638\n",
      "probability=0.950, critical=7.815, stat=61.250\n",
      "Dependent (reject H0)\n",
      "significance=0.050, p=0.000\n",
      "Dependent (reject H0)\n"
     ]
    }
   ],
   "source": [
    "#put approach and avoidance count into appropriate array; then conduct chi2 test\n",
    "app_avoi_arr = np.array([[16, 2, 0, 0], [3, 21, 24, 22]])\n",
    "\n",
    "stat, p, dof, expected = chi2_contingency(app_avoi_arr)\n",
    "print('dof=%d' % dof)\n",
    "print(expected)\n",
    "print(stat)\n",
    "\n",
    "prob = 0.95\n",
    "critical = chi2.ppf(prob, dof)\n",
    "print('probability=%.3f, critical=%.3f, stat=%.3f' % (prob, critical, stat))\n",
    "if abs(stat) >= critical:\n",
    "    print('Dependent (reject H0)')\n",
    "else:\n",
    "    print('Independent (fail to reject H0)')\n",
    "# interpret p-value\n",
    "alpha = 1.0 - prob\n",
    "print('significance=%.3f, p=%.3f' % (alpha, p))\n",
    "if p <= alpha:\n",
    "    print('Dependent (reject H0)')\n",
    "else:\n",
    "    print('Independent (fail to reject H0)')"
   ]
  },
  {
   "cell_type": "code",
   "execution_count": 8,
   "id": "acdf0630",
   "metadata": {},
   "outputs": [
    {
     "name": "stdout",
     "output_type": "stream",
     "text": [
      "F_onewayResult(statistic=0.16101436973947056, pvalue=0.9222808485247679)\n"
     ]
    }
   ],
   "source": [
    "#conduct anova to find if there is a difference in RT between different emotions, regardless of response\n",
    "#MISSING: ADD TABLE\n",
    "\n",
    "anova = f_oneway(data[' ReactionTime'][data[' EmotionalExpression'] == 'happy'],\n",
    " data[' ReactionTime'][data[' EmotionalExpression'] == 'sad'],\n",
    " data[' ReactionTime'][data[' EmotionalExpression'] == 'angry'],\n",
    " data[' ReactionTime'][data[' EmotionalExpression'] == 'afraid'])\n",
    "print(anova)"
   ]
  },
  {
   "cell_type": "code",
   "execution_count": 48,
   "id": "c3828999",
   "metadata": {},
   "outputs": [
    {
     "name": "stdout",
     "output_type": "stream",
     "text": [
      "70\n",
      "70\n"
     ]
    },
    {
     "ename": "TypeError",
     "evalue": "unsupported operand type(s) for -: 'float' and 'str'",
     "output_type": "error",
     "traceback": [
      "\u001b[0;31m---------------------------------------------------------------------------\u001b[0m",
      "\u001b[0;31mTypeError\u001b[0m                                 Traceback (most recent call last)",
      "Input \u001b[0;32mIn [48]\u001b[0m, in \u001b[0;36m<cell line: 21>\u001b[0;34m()\u001b[0m\n\u001b[1;32m     18\u001b[0m \u001b[38;5;28mprint\u001b[39m(\u001b[38;5;28mlen\u001b[39m(app_rt))\n\u001b[1;32m     19\u001b[0m \u001b[38;5;28mprint\u001b[39m(\u001b[38;5;28mlen\u001b[39m(avo_rt))\n\u001b[0;32m---> 21\u001b[0m \u001b[43mstats\u001b[49m\u001b[38;5;241;43m.\u001b[39;49m\u001b[43mttest_rel\u001b[49m\u001b[43m(\u001b[49m\u001b[43mavo_rt\u001b[49m\u001b[43m,\u001b[49m\u001b[43m \u001b[49m\u001b[43mapp_rt\u001b[49m\u001b[43m,\u001b[49m\u001b[43m \u001b[49m\u001b[43mnan_policy\u001b[49m\u001b[38;5;241;43m=\u001b[39;49m\u001b[38;5;124;43m'\u001b[39;49m\u001b[38;5;124;43momit\u001b[39;49m\u001b[38;5;124;43m'\u001b[39;49m\u001b[43m,\u001b[49m\u001b[43m \u001b[49m\u001b[43malternative\u001b[49m\u001b[38;5;241;43m=\u001b[39;49m\u001b[38;5;124;43m'\u001b[39;49m\u001b[38;5;124;43mtwo-sided\u001b[39;49m\u001b[38;5;124;43m'\u001b[39;49m\u001b[43m)\u001b[49m\n",
      "File \u001b[0;32m~/opt/anaconda3/lib/python3.9/site-packages/scipy/stats/stats.py:6453\u001b[0m, in \u001b[0;36mttest_rel\u001b[0;34m(a, b, axis, nan_policy, alternative)\u001b[0m\n\u001b[1;32m   6450\u001b[0m n \u001b[38;5;241m=\u001b[39m a\u001b[38;5;241m.\u001b[39mshape[axis]\n\u001b[1;32m   6451\u001b[0m df \u001b[38;5;241m=\u001b[39m n \u001b[38;5;241m-\u001b[39m \u001b[38;5;241m1\u001b[39m\n\u001b[0;32m-> 6453\u001b[0m d \u001b[38;5;241m=\u001b[39m (\u001b[43ma\u001b[49m\u001b[43m \u001b[49m\u001b[38;5;241;43m-\u001b[39;49m\u001b[43m \u001b[49m\u001b[43mb\u001b[49m)\u001b[38;5;241m.\u001b[39mastype(np\u001b[38;5;241m.\u001b[39mfloat64)\n\u001b[1;32m   6454\u001b[0m v \u001b[38;5;241m=\u001b[39m np\u001b[38;5;241m.\u001b[39mvar(d, axis, ddof\u001b[38;5;241m=\u001b[39m\u001b[38;5;241m1\u001b[39m)\n\u001b[1;32m   6455\u001b[0m dm \u001b[38;5;241m=\u001b[39m np\u001b[38;5;241m.\u001b[39mmean(d, axis)\n",
      "\u001b[0;31mTypeError\u001b[0m: unsupported operand type(s) for -: 'float' and 'str'"
     ]
    }
   ],
   "source": [
    "#conduct dependent t-test to find out if there is a significant difference in RT for approach vs avoidance response \n",
    "#TRROWS ERROR\n",
    "\n",
    "approach = data.loc[data['Response'] == 'Approach']\n",
    "avoidance = data.loc[data['Response'] == 'Avoidance']\n",
    "app_rt = np.array(approach.iloc[:,5])\n",
    "avo_rt = np.array(avoidance.iloc[:,5])\n",
    "\n",
    "if len(app_rt) < len(avo_rt):\n",
    "    long_arr = len(avo_rt)\n",
    "if len(app_rt) > len(avo_rt):\n",
    "    long_arr = len(app_rt)\n",
    "\n",
    "for i in range(long_arr):\n",
    "    if len(app_rt) < len(avo_rt):\n",
    "        app_rt = np.append(app_rt, nan)\n",
    "    if len(app_rt) > len(avo_rt):\n",
    "        avo_rt = np.append(avo_rt, nan)\n",
    "print(len(app_rt))\n",
    "print(len(avo_rt))\n",
    "\n",
    "stats.ttest_rel(avo_rt, app_rt, nan_policy='omit', alternative='two-sided')"
   ]
  },
  {
   "cell_type": "code",
   "execution_count": 10,
   "id": "a4d99da8",
   "metadata": {},
   "outputs": [
    {
     "data": {
      "text/html": [
       "<div>\n",
       "<style scoped>\n",
       "    .dataframe tbody tr th:only-of-type {\n",
       "        vertical-align: middle;\n",
       "    }\n",
       "\n",
       "    .dataframe tbody tr th {\n",
       "        vertical-align: top;\n",
       "    }\n",
       "\n",
       "    .dataframe thead th {\n",
       "        text-align: right;\n",
       "    }\n",
       "</style>\n",
       "<table border=\"1\" class=\"dataframe\">\n",
       "  <thead>\n",
       "    <tr style=\"text-align: right;\">\n",
       "      <th></th>\n",
       "      <th>BlockNumber</th>\n",
       "      <th>TaskNumber</th>\n",
       "      <th>ReactionTime</th>\n",
       "    </tr>\n",
       "    <tr>\n",
       "      <th>Response</th>\n",
       "      <th></th>\n",
       "      <th></th>\n",
       "      <th></th>\n",
       "    </tr>\n",
       "  </thead>\n",
       "  <tbody>\n",
       "    <tr>\n",
       "      <th>Approach</th>\n",
       "      <td>0.297655</td>\n",
       "      <td>0.304886</td>\n",
       "      <td>0.158867</td>\n",
       "    </tr>\n",
       "    <tr>\n",
       "      <th>Avoidance</th>\n",
       "      <td>0.155364</td>\n",
       "      <td>0.168996</td>\n",
       "      <td>0.091123</td>\n",
       "    </tr>\n",
       "  </tbody>\n",
       "</table>\n",
       "</div>"
      ],
      "text/plain": [
       "           BlockNumber   TaskNumber   ReactionTime\n",
       "Response                                          \n",
       "Approach      0.297655     0.304886       0.158867\n",
       "Avoidance     0.155364     0.168996       0.091123"
      ]
     },
     "execution_count": 10,
     "metadata": {},
     "output_type": "execute_result"
    }
   ],
   "source": [
    "#data.groupby(['Response']).mean()\n",
    "data.groupby(['Response']).sem()\n",
    "\n"
   ]
  },
  {
   "cell_type": "code",
   "execution_count": null,
   "id": "5018d928",
   "metadata": {},
   "outputs": [],
   "source": [
    "#delete columns that are disturbing and not necessary when grouping the data\n",
    "data = data.drop(['BlockNumber', ' TaskNumber'], axis=1)\n",
    "\n",
    "#show reaction time mean for each response\n",
    "data.groupby('Response').mean()"
   ]
  },
  {
   "cell_type": "code",
   "execution_count": null,
   "id": "92aedae0",
   "metadata": {},
   "outputs": [],
   "source": [
    "#show reaction time standard error for each response\n",
    "data.groupby('Response').sem()"
   ]
  },
  {
   "cell_type": "code",
   "execution_count": null,
   "id": "afdfd506",
   "metadata": {},
   "outputs": [],
   "source": [
    "#show trial count for each response and emomtional expression\n",
    "data.groupby([' EmotionalExpression', 'Response']).count()"
   ]
  },
  {
   "cell_type": "code",
   "execution_count": null,
   "id": "2f0e96cb",
   "metadata": {},
   "outputs": [],
   "source": [
    "#show trial count for each emomtional expression\n",
    "data.groupby([' EmotionalExpression']).count()"
   ]
  },
  {
   "cell_type": "code",
   "execution_count": null,
   "id": "3ba853c9",
   "metadata": {},
   "outputs": [],
   "source": [
    "#show reaction time mean for each response and emomtional expression\n",
    "data.groupby([' EmotionalExpression', 'Response']).mean()"
   ]
  },
  {
   "cell_type": "code",
   "execution_count": null,
   "id": "355d89f3",
   "metadata": {},
   "outputs": [],
   "source": [
    "#show reaction time standard error for each response and emomtional expression\n",
    "\n",
    "data.groupby([' EmotionalExpression', 'Response']).sem()"
   ]
  },
  {
   "cell_type": "code",
   "execution_count": null,
   "id": "58f66f71",
   "metadata": {},
   "outputs": [],
   "source": [
    "#show reaction time mean for responses with left vs right hand\n",
    "data.groupby([' ResponsePosition']).mean()"
   ]
  },
  {
   "cell_type": "code",
   "execution_count": null,
   "id": "fceefa49",
   "metadata": {},
   "outputs": [],
   "source": [
    "#show reaction time standard error for responses with left vs right hand\n",
    "data.groupby([' ResponsePosition']).sem()"
   ]
  },
  {
   "cell_type": "code",
   "execution_count": null,
   "id": "4cd842ef",
   "metadata": {},
   "outputs": [],
   "source": [
    "#show reaction time mean for young vs old avatar\n",
    "data.groupby([' NeutralAvatar']).mean()"
   ]
  },
  {
   "cell_type": "code",
   "execution_count": null,
   "id": "e102b671",
   "metadata": {},
   "outputs": [],
   "source": [
    "#show reaction time standard error for young vs old avatar\n",
    "data.groupby([' NeutralAvatar']).sem()"
   ]
  },
  {
   "cell_type": "code",
   "execution_count": null,
   "id": "896f3de1",
   "metadata": {},
   "outputs": [],
   "source": [
    "sns.set(style=\"whitegrid\")\n",
    "\n",
    "palette ={\"Avoidance\": \"salmon\", \"Approach\": \"powderblue\"}\n",
    "\n",
    "ax = sns.countplot(data=data, x=\" EmotionalExpression\", \n",
    "                   hue=\"Response\", palette=palette, alpha=0.5)\n",
    "\n",
    "for container in ax.containers:\n",
    "    ax.bar_label(container)\n",
    "\n",
    "ax.set(ylim=(0,30))\n",
    "    \n",
    "#plt.title('Response Count for each Emotional Expression', y=1.05, fontsize = 13)\n",
    "plt.xlabel('Emotional Expression')\n",
    "plt.ylabel('Response Count')"
   ]
  },
  {
   "cell_type": "code",
   "execution_count": null,
   "id": "a170c9e1",
   "metadata": {},
   "outputs": [],
   "source": [
    "ax = sns.countplot(data=data, x=\" NeutralAvatar\", \n",
    "                   hue=\"Response\", palette=palette, alpha=0.5)\n",
    "\n",
    "for container in ax.containers:\n",
    "    ax.bar_label(container)\n",
    "\n",
    "ax.set(ylim=(0,75))\n",
    "    \n",
    "#plt.title('Response Count for Young and Old Neutral Avatars', y=1.05, fontsize = 13)\n",
    "plt.xlabel('Neutral Avatar')\n",
    "plt.ylabel('Response Count')"
   ]
  },
  {
   "cell_type": "code",
   "execution_count": null,
   "id": "f1c27ab1",
   "metadata": {},
   "outputs": [],
   "source": [
    "df1 = data.groupby(\" NeutralAvatar\")['Response'].value_counts(normalize=True)\n",
    "df1 = df1.mul(100)\n",
    "df1 = df1.rename('percent').reset_index()\n",
    "print(df1)\n",
    "\n",
    "g = sns.catplot(x=\" NeutralAvatar\",y='percent',hue='Response',kind='bar',data=df1,\n",
    "               palette=palette, alpha=0.5, legend=False, order=['young', 'old'])\n",
    "g.ax.set_ylim(0,105)\n",
    "plt.legend(bbox_to_anchor=(1.05, 1), loc='upper left')\n",
    "\n",
    "plt.xlabel('Neutral Avatar')\n",
    "plt.ylabel('Percent Response')\n",
    "\n",
    "for p in g.ax.patches:\n",
    "    txt = str(p.get_height().round(2)) + '%'\n",
    "    txt_x = p.get_x() \n",
    "    txt_y = p.get_height()\n",
    "    g.ax.text(txt_x,txt_y,txt)\n",
    "\n",
    "    "
   ]
  },
  {
   "cell_type": "code",
   "execution_count": null,
   "id": "884f8ac0",
   "metadata": {},
   "outputs": [],
   "source": [
    "sns.set(style=\"whitegrid\")\n",
    "\n",
    "sns.barplot(data=data, x=' EmotionalExpression', y=' ReactionTime', hue='Response', ci = \"sd\", capsize = 0.1,\n",
    "            errwidth=1,\n",
    "            palette=palette, alpha=0.5)\n",
    "\n",
    "sns.swarmplot(data=data, x=' EmotionalExpression', y=' ReactionTime', hue='Response', dodge=True,\n",
    "             palette=palette, alpha=0.8)\n",
    "\n",
    "#plt.title('Reaction Times for each Emotional Expression', y=1.05, fontsize = 13)\n",
    "plt.xlabel('Emotional Expression')\n",
    "plt.ylabel('Reaction Times in sec')\n",
    "\n",
    "plt.legend(bbox_to_anchor=(1.05, 1), loc=2)"
   ]
  },
  {
   "cell_type": "code",
   "execution_count": null,
   "id": "f84bcbc7",
   "metadata": {},
   "outputs": [],
   "source": [
    "sns.set(style=\"whitegrid\")\n",
    "\n",
    "sns.barplot(data=data, x=' ResponsePosition', y=' ReactionTime',\n",
    "            ci = \"sd\", capsize = 0.1,\n",
    "            errwidth=1,\n",
    "            color='indianred', alpha=0.5)\n",
    "sns.swarmplot(data=data, x=' ResponsePosition', y=' ReactionTime',\n",
    "            color='indianred', alpha=0.8)\n",
    "\n",
    "#plt.title('Reaction Times for Left and Right Responses', y=1.05, fontsize = 13)\n",
    "plt.xlabel('Direction of Chosen Response')\n",
    "plt.ylabel('Reaction Times in sec')"
   ]
  },
  {
   "cell_type": "code",
   "execution_count": 38,
   "id": "b1340654",
   "metadata": {},
   "outputs": [
    {
     "data": {
      "text/plain": [
       "Text(0, 0.5, 'Power Spectral Density ($V^2/Hz$)')"
      ]
     },
     "execution_count": 38,
     "metadata": {},
     "output_type": "execute_result"
    },
    {
     "data": {
      "image/png": "[encoded data removed]",
      "text/plain": [
       "<Figure size 432x288 with 1 Axes>"
      ]
     },
     "metadata": {
      "needs_background": "light"
     },
     "output_type": "display_data"
    }
   ],
   "source": [
    "#create and plot expected EEG data\n",
    "freq = np.array([0, 1, 4,  8, 10, 11, 13, 20, 25, 30])\n",
    "psd = np.array([0, 20, 80, 210, 250, 90, 50, 5, 4, 3])\n",
    "sns.lineplot(x=freq, y=psd, color='indianred')\n",
    "\n",
    "low, high = 8, 13\n",
    "alpha = np.logical_and(freq >= low, freq <= high)\n",
    "plt.fill_between(freq, psd, where=alpha, color='skyblue')\n",
    "\n",
    "plt.xlabel('Frequency in Hz')\n",
    "plt.ylabel('Power Spectral Density ($V^2/Hz$)')"
   ]
  },
  {
   "cell_type": "code",
   "execution_count": null,
   "id": "f15c5577",
   "metadata": {},
   "outputs": [],
   "source": []
  }
 ],
 "metadata": {
  "kernelspec": {
   "display_name": "Python 3 (ipykernel)",
   "language": "python",
   "name": "python3"
  },
  "language_info": {
   "codemirror_mode": {
    "name": "ipython",
    "version": 3
   },
   "file_extension": ".py",
   "mimetype": "text/x-python",
   "name": "python",
   "nbconvert_exporter": "python",
   "pygments_lexer": "ipython3",
   "version": "3.9.12"
  }
 },
 "nbformat": 4,
 "nbformat_minor": 5
}
